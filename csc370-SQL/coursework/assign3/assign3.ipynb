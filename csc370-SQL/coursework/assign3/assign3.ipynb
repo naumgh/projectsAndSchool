{
 "cells": [
  {
   "cell_type": "markdown",
   "id": "e446795c-8a52-4341-be11-ccefd4261472",
   "metadata": {},
   "source": [
    "###### CSC 370 (Spring 2024)\n",
    "\n",
    "### Assignment #3\n",
    "\n",
    "* Due via `git push` on or before 11:55 pm, 18 March (Monday). Ensure you use `git add`, `git commit` and `git push` correctly.\n",
    "* E-mailed submissions **will not be accepted**. All work must be provided via this notebook and repository.\n",
    "* There are four **deliverables** for in this assignment.\n",
    "* Therefore this Notebook is only used to describe the assignment. All work for evaluation must be submitted as described in each part (i.e \"Deliverable\") shown below.\n",
    "\n",
    "<div class=\"alert alert-block alert-info\">\n",
    "Information on the PostgreSQL account assigned to you, as well as some details on how to connect to the database server, are provided at the top-level of your repository in a file named `POSTGRESQL.md`.\n",
    "</div>\n",
    "\n",
    "<div class=\"alert alert-block alert-danger\">\n",
    "Unlike with the previous two assignments, the work to be submitted for this third assignment involves several separate files that you must ensure are added, committed, and pushed to `git`. <b>The contents of this Notebook will not be examined during assignment evaluation.</b> However, you are welcome to keep notes to yourself in this notebook. All submitted files <b>must</b> be contained in your repository's <code>assign3/</code> directory.\n",
    "</div>"
   ]
  },
  {
   "attachments": {},
   "cell_type": "markdown",
   "id": "63b32607-1a33-4de1-bb69-6296587c9b1b",
   "metadata": {},
   "source": [
    "---\n",
    "#### Problem Statement\n",
    "\n",
    "The environmental-activist organization named “Green-not-Greed” (GnG) has grown to a point where some computerized record keeping would help with day-to-day operations. They would use online services for such record keeping, but are worried about security and surveillance given constant revelations on how some state-sponsored security services gather data on ordinary citizens via data transmitted over the Internet.  They would rather build a home-grown system to help them with their work.\n",
    "\n",
    "The main purpose for which the group exists is to raise public awareness on emerging environmental issues that have relatively local impact (i.e., “local” here would mean a region up to a size of, say,  “Vancouver Island”). Although GnG keeps in touch with other, more globally-oriented environmental groups, and some GnG members belong to such groups, GnG’s focus is on “as-local-as-possible” issues.\r\n",
    "\r\n",
    "Attempts to raise public awareness and effect change are via “campaigns”.  These are person-on-the-street activities where volunteers are scheduled to be at street corners and public squares in towns or cities.  There the volunteers use posters, placards, and other material to capture the attention of citizens in the public space and share with them the issues central to the campaign. These campaigns can last anywhere from two weeks to two months, and may have events taking place simultaneously in the same, or different, cities and towns and villages. There is a little bit of fundraising that also occurs during campaigns, but GnG is mostly funded by several large donors. Campaigns do have some costs associated with them. At present GnG operates out of a small downtown office, the rent of which is paid by some GnG supporters.\r\n",
    "\r\n",
    "GnG also has a website. Although the computer system solving the problem described here will not be linked to the website, the group believes it makes sense that something be done to keep track of when and how campaigns (and the phases of each campaign) will be pushed out ¬– and have been pushed out – to the website.\r\n",
    "\r\n",
    "There are a few salaried employees (on very low salaries!) and most of the organization is based on the work of its volunteers. There are two tiers of volunteers: those who have participated in more than three publicity campaigns and then the others who have participated in two or fewer. There are also members who are not volunteers but who are interested in supporting the activities of Therefore theence the computer system is needed to help GnG keep track of campaigns, who is working on them, when activities need to happen, and the way funds actually flow in and out.\r\n",
    "\r\n",
    "For this problem you must also use your own understanding of the way such groups work in order to “fill in the gaps” of the description above. The assumptions you make must be rooted in the real world and therefore when stating your assumptions please provide some justification. As you think through the problems in this assignment, feel free to look at how other, similar groups are organized in the munity.\r\n",
    "\r\n",
    "\n"
   ]
  },
  {
   "attachments": {},
   "cell_type": "markdown",
   "id": "50a9359f-88b9-4a22-86a7-259a7397e46c",
   "metadata": {},
   "source": [
    "---\n",
    "#### Deliverable A: ER Diagram\n",
    "\n",
    "Prepare an ER diagram modelling the entities, relationships and constraints in this problem. Feel free to use whatever tool you wish for preparing the diagram; however, hand-drawn diagrams are acceptable. The finished diagrams must be provided in PDF format.\n",
    "\n",
    "**Please do this deliverable!** You may be tempted to develop the SQL schemas first and then prepare the ER diagrams, but this order of work may yield poor results and possibly a much lower assignment grade. It may be the case that you decide to change your ER diagram as you complete Deliverables B, C, and D because of new insights you have regarding what is possible or what you intend -- and such changes are okay.\n",
    "\n",
    "<div class=\"alert alert-block alert-info\">\n",
    "The name of the images containing your models <b>must begin with the name</b> <code>gng-model-</code>. For example, the first diagram can be named <code>gng-model-1.pdf</code> or even <code>gng-model-main.pdf</code>.\n",
    "</div>\n",
    "\n",
    "<center><img src=\"gng-model-1.jpg\" width=\"850\" /></center>\n",
    "\n",
    "(the orange attributes are the 'keys')\n",
    "\n",
    "ASSUMPTIONS\r\n",
    "\r\n",
    "\r\n",
    "An employee is a ‘volunteer’ as their salary is low. We also don’t explicitly care atous salary when we are talking about a budget, since it has to do with the entire organization, and is completely independent of an individual campaign, meaning i assumed to be already calculated in the budget it. Additionally, a supporter is a donator, the only difference is that donors donate a lot of money, and supporters money goes to rent. It is very easy to query the database to get the “top donors.” If you notice, my ER diagram models around the Campaign entity. We can assume that the “home office” is out of the scope for this problem. All we know about it is the rent, and I can assume that although it might change month-to-month, it won’t change enough to warrant being modeled. We can’t possibly model every single expe, which is why I opted to model only the campaign expenses.se.\r\n",
    "\r\n",
    "The company could have 2 different tiers for donor and supporter as well, where we distinguish a donator by a contribution of 5,000 or greater, and the budget will be covered for a campaign, while the rest will be covered for “rent.”\r\n",
    "\r\n",
    "We can assume that both campaigns and events have costs. There is to set up for phases and events, which in turn, offers the total cost of a campaign, not including low salaries (which is assumed in the campaign budget) and the rent (which is paid for by smaller 'donors')mpaign.\r\n",
    "\r\n",
    "\r\n",
    "As for the phase, we can assume a phase happens before the actual “date of the campaign.” A campaign could consist of any number of phases, and is assumed to be calculated in the “cost” of a campaign. We can also assume that there are additional expenses incurred outside of the expected costs to vent.\r\n",
    "\n",
    "\n",
    "\n",
    "\n"
   ]
  },
  {
   "attachments": {},
   "cell_type": "markdown",
   "id": "cfd914b1-8112-4223-a5d3-e5eba938592f",
   "metadata": {},
   "source": [
    "---\n",
    "#### Deliverable B: A set of relations\n",
    "\n",
    "After having prepared and reflected on your ER diagram (and you may have drawn several versions as you come to grips with the problem described), convert the design of your final diagram(s) into a set of relations. If your diagram includes ISA hierarchies, then choose what you believe to be the appropriate conversion approach (i.e., ER, O-O, or Nulls).\n",
    "\n",
    "<div class=\"alert alert-block alert-info\">\n",
    "The name of the file containing the relations -- including any explanations of your choices -- <b>must be named</b> <code>gng.md</code>\n",
    "</div>\n",
    "\n",
    "\n",
    "\n",
    "\n"
   ]
  },
  {
   "attachments": {},
   "cell_type": "markdown",
   "id": "96721e84-b001-49c8-bf4a-f128c4de7175",
   "metadata": {},
   "source": [
    "---\n",
    "#### Deliverable C: SQL table creation commands\n",
    "\n",
    "Prepare and implement the SQL statements (in PostgreSQL) needed to not only construct the table schemas corresponding to your relations, but also populating them with dummy data. (Use insert SQL commands to add tuples to tables.) Ensure any key and foreign-key constraints are listed and handled appropriately. **You do not need** to use attribute or table constraints for this assignment, but you are not forbidden from using them.\n",
    "\n",
    "\n",
    "<div class=\"alert alert-block alert-info\">\n",
    "The name of the file containing the SQL commands for constructing the tables and populating them with data <b>must be named</b> <code>gng-construct.sql</code>\n",
    "</div>\n",
    "\n"
   ]
  },
  {
   "cell_type": "markdown",
   "id": "01046a55-1583-459f-9125-03a7e191e287",
   "metadata": {},
   "source": [
    "---\n",
    "#### Deliverable D: At least ten SQL queries using your tables\n",
    "\n",
    "You are to pose at least ten questions you would want to ask of the data in the tables. Provide at least one SQL query per question that finds the answer to that question.\n",
    "\n",
    "Amongst all of the SQL must appear the important query constructs we have discussed in class: subqueries; subqueries using scalar values; set operations; use of *exists*, *any*, or *all*; join operations; grouping and aggregation; etc.\n",
    "\n",
    "Each of your queries must be implemented as an SQL view where the view name corresponds to the number of the question (above) you are answering.\n",
    "\n",
    "<div class=\"alert alert-block alert-info\">\n",
    "The name of the file containing the SQL commands corresponding to your queries <b>must be named</b> <code>gng-queries.sql</code>\n",
    "</div>\n",
    "\n",
    "\n",
    "\n"
   ]
  },
  {
   "cell_type": "markdown",
   "id": "64d1d843-da8d-40ce-8e9f-04642c17bdb0",
   "metadata": {},
   "source": [
    "---\n",
    "#### Evaluation\n",
    "\n",
    "As there are many possible correct solutions to the problem, evaluation will be done via a demonstration of work in front of a member of the CSC 370 teaching team. Information on demos (i.e., where, when, how to sign up) will be distributed several days before the assignment due date.\n",
    "\n",
    "The marking scheme below will be used:\n",
    "* **A grade:** An exceptional submission demonstrating creativity and initiative. The data modelling is thorough and shows insight, the database schema is well prepared, and required SQL features are intelligently (and clearly) used in assignment's queries.\n",
    "* **B grade:** A submission completing the requirements of the assignment. The data modelling is thorough, database schema has been prepared, and required SQL features are used in the assignment's queries.\n",
    "* **C grade:** A submission completing most of the requirements of the assignment. There may be problems with one of: data modelling; database schema; SQL queries.\n",
    "* **D grade:** A serious attempt at completing the requirements of the assignment. There are many problems with the submitted work.\n",
    "* **F grade:** Either no submission is given, or submission represents very little work."
   ]
  },
  {
   "cell_type": "markdown",
   "id": "fbcf55f4-42b3-4dea-9f67-ae2b943c8910",
   "metadata": {},
   "source": []
  }
 ],
 "metadata": {
  "kernelspec": {
   "display_name": "Python 3 (ipykernel)",
   "language": "python",
   "name": "python3"
  },
  "language_info": {
   "codemirror_mode": {
    "name": "ipython",
    "version": 3
   },
   "file_extension": ".py",
   "mimetype": "text/x-python",
   "name": "python",
   "nbconvert_exporter": "python",
   "pygments_lexer": "ipython3",
   "version": "3.11.7"
  }
 },
 "nbformat": 4,
 "nbformat_minor": 5
}
