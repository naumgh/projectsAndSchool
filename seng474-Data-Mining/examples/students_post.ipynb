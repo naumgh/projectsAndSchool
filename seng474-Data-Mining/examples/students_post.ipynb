{
 "cells": [
  {
   "attachments": {},
   "cell_type": "markdown",
   "metadata": {},
   "source": [
    "Logistic Regression - Gradient Descent\n",
    "--\n",
    "In this part you will build a logistic regression model using Numpy and doing gradient descent. \n",
    "You should complete the following cells (those with comments and no code). "
   ]
  },
  {
   "cell_type": "code",
   "execution_count": 189,
   "metadata": {
    "collapsed": true
   },
   "outputs": [],
   "source": [
    "import numpy as np\n",
    "import matplotlib.pyplot as plt"
   ]
  },
  {
   "cell_type": "code",
   "execution_count": 190,
   "metadata": {},
   "outputs": [
    {
     "name": "stdout",
     "output_type": "stream",
     "text": [
      "       exam1      exam2  admitted\n",
      "0  34.623660  78.024693         0\n",
      "1  30.286711  43.894998         0\n",
      "2  35.847409  72.902198         0\n",
      "3  60.182599  86.308552         1\n",
      "4  79.032736  75.344376         1\n"
     ]
    }
   ],
   "source": [
    "# read data\n",
    "import pandas as pd\n",
    "from sklearn.preprocessing import add_dummy_feature\n",
    "\n",
    "data = pd.read_csv('https://raw.githubusercontent.com/thomouvic/SENG474/main/data/exams_admitted.csv')\n",
    "print(data.head())"
   ]
  },
  {
   "cell_type": "code",
   "execution_count": 191,
   "metadata": {},
   "outputs": [
    {
     "name": "stdout",
     "output_type": "stream",
     "text": [
      "[[34.62365962 78.02469282]\n",
      " [30.28671077 43.89499752]\n",
      " [35.84740877 72.90219803]\n",
      " [60.18259939 86.3085521 ]\n",
      " [79.03273605 75.34437644]\n",
      " [45.08327748 56.31637178]\n",
      " [61.10666454 96.51142588]\n",
      " [75.02474557 46.55401354]\n",
      " [76.0987867  87.42056972]\n",
      " [84.43281996 43.53339331]\n",
      " [95.86155507 38.22527806]\n",
      " [75.01365839 30.60326323]\n",
      " [82.30705337 76.4819633 ]\n",
      " [69.36458876 97.71869196]\n",
      " [39.53833914 76.03681085]\n",
      " [53.97105215 89.20735014]\n",
      " [69.07014406 52.74046973]\n",
      " [67.94685548 46.67857411]\n",
      " [70.66150955 92.92713789]\n",
      " [76.97878373 47.57596365]\n",
      " [67.37202755 42.83843832]\n",
      " [89.67677575 65.79936593]\n",
      " [50.53478829 48.85581153]\n",
      " [34.21206098 44.2095286 ]\n",
      " [77.92409145 68.97235999]\n",
      " [62.27101367 69.95445795]\n",
      " [80.19018075 44.82162893]\n",
      " [93.1143888  38.80067034]\n",
      " [61.83020602 50.25610789]\n",
      " [38.7858038  64.99568096]\n",
      " [61.37928945 72.80788731]\n",
      " [85.40451939 57.05198398]\n",
      " [52.10797973 63.12762377]\n",
      " [52.04540477 69.43286012]\n",
      " [40.23689374 71.16774802]\n",
      " [54.63510555 52.21388588]\n",
      " [33.91550011 98.86943574]\n",
      " [64.17698887 80.90806059]\n",
      " [74.78925296 41.57341523]\n",
      " [34.18364003 75.23772034]\n",
      " [83.90239366 56.30804622]\n",
      " [51.54772027 46.85629026]\n",
      " [94.44336777 65.56892161]\n",
      " [82.36875376 40.61825516]\n",
      " [51.04775177 45.82270146]\n",
      " [62.22267576 52.06099195]\n",
      " [77.19303493 70.4582    ]\n",
      " [97.77159928 86.72782233]\n",
      " [62.0730638  96.76882412]\n",
      " [91.5649745  88.69629255]\n",
      " [79.94481794 74.16311935]\n",
      " [99.27252693 60.999031  ]\n",
      " [90.54671411 43.39060181]\n",
      " [34.52451385 60.39634246]\n",
      " [50.28649612 49.80453881]\n",
      " [49.58667722 59.80895099]\n",
      " [97.64563396 68.86157272]\n",
      " [32.57720017 95.59854761]\n",
      " [74.24869137 69.82457123]\n",
      " [71.79646206 78.45356225]\n",
      " [75.39561147 85.75993667]\n",
      " [35.28611282 47.02051395]\n",
      " [56.2538175  39.26147251]\n",
      " [30.05882245 49.59297387]\n",
      " [44.66826172 66.45008615]\n",
      " [66.56089447 41.09209808]\n",
      " [40.45755098 97.53518549]\n",
      " [49.07256322 51.88321182]\n",
      " [80.27957401 92.11606081]\n",
      " [66.74671857 60.99139403]\n",
      " [32.72283304 43.30717306]\n",
      " [64.03932042 78.03168802]\n",
      " [72.34649423 96.22759297]\n",
      " [60.45788574 73.0949981 ]\n",
      " [58.84095622 75.85844831]\n",
      " [99.8278578  72.36925193]\n",
      " [47.26426911 88.475865  ]\n",
      " [50.4581598  75.80985953]\n",
      " [60.45555629 42.50840944]\n",
      " [82.22666158 42.71987854]\n",
      " [88.91389642 69.8037889 ]\n",
      " [94.83450672 45.6943068 ]\n",
      " [67.31925747 66.58935318]\n",
      " [57.23870632 59.51428198]\n",
      " [80.366756   90.9601479 ]\n",
      " [68.46852179 85.5943071 ]\n",
      " [42.07545454 78.844786  ]\n",
      " [75.47770201 90.424539  ]\n",
      " [78.63542435 96.64742717]\n",
      " [52.34800399 60.76950526]\n",
      " [94.09433113 77.15910509]\n",
      " [90.44855097 87.50879176]\n",
      " [55.48216114 35.57070347]\n",
      " [74.49269242 84.84513685]\n",
      " [89.84580671 45.35828361]\n",
      " [83.48916274 48.3802858 ]\n",
      " [42.26170081 87.10385094]\n",
      " [99.31500881 68.77540947]\n",
      " [55.34001756 64.93193801]\n",
      " [74.775893   89.5298129 ]]\n"
     ]
    }
   ],
   "source": [
    "# extract X and y from data\n",
    "# use features 'exam1' and 'exam2' for X\n",
    "# use feature 'admitted' for y\n",
    "# use pandas.DataFrame.values to convert to numpy arrays\n",
    "X = data[['exam1', 'exam2']].values\n",
    "y = data[['admitted']].values\n",
    "\n",
    "print(X)"
   ]
  },
  {
   "cell_type": "code",
   "execution_count": 192,
   "metadata": {},
   "outputs": [
    {
     "name": "stdout",
     "output_type": "stream",
     "text": [
      "[0.06542784 0.69465488]\n"
     ]
    }
   ],
   "source": [
    "# normalize X\n",
    "# use scikit-learn's built-in function MinMaxScaler\n",
    "from sklearn.preprocessing import MinMaxScaler\n",
    "\n",
    "scaler = MinMaxScaler()\n",
    "X = scaler.fit_transform(X)\n",
    "print(X[0])"
   ]
  },
  {
   "cell_type": "code",
   "execution_count": 193,
   "metadata": {},
   "outputs": [
    {
     "name": "stdout",
     "output_type": "stream",
     "text": [
      "[1.         0.06542784 0.69465488]\n"
     ]
    }
   ],
   "source": [
    "# add a dummy feature for the intercept\n",
    "# use scikit-learn's built-in function add_dummy_feature\n",
    "from sklearn.preprocessing import add_dummy_feature\n",
    "\n",
    "X = add_dummy_feature(X)\n",
    "print(X[0])"
   ]
  },
  {
   "cell_type": "code",
   "execution_count": 194,
   "metadata": {},
   "outputs": [
    {
     "data": {
      "text/plain": [
       "(100, 3)"
      ]
     },
     "execution_count": 194,
     "metadata": {},
     "output_type": "execute_result"
    }
   ],
   "source": [
    "# set m (number of training examples) and n (number of features)\n",
    "# use the shape attribute of X\n",
    "\n",
    "m=X.shape[0]\n",
    "n=X.shape[1]\n",
    "\n",
    "m,n"
   ]
  },
  {
   "cell_type": "code",
   "execution_count": 195,
   "metadata": {},
   "outputs": [
    {
     "data": {
      "text/plain": [
       "array([[0.],\n",
       "       [0.],\n",
       "       [0.]])"
      ]
     },
     "execution_count": 195,
     "metadata": {},
     "output_type": "execute_result"
    }
   ],
   "source": [
    "# initialize theta to zeros\n",
    "# the theta array should be number of features plus one\n",
    "\n",
    "theta = np.zeros((n,1)) # this is number of features plus one cause we dont count dummy i think\n",
    "theta"
   ]
  },
  {
   "cell_type": "code",
   "execution_count": 196,
   "metadata": {},
   "outputs": [
    {
     "data": {
      "text/plain": [
       "0.5"
      ]
     },
     "execution_count": 196,
     "metadata": {},
     "output_type": "execute_result"
    }
   ],
   "source": [
    "# define sigmoid function\n",
    "def sigmoid(z):\n",
    "    return 1 / (1+np.exp(-z))\n",
    "\n",
    "\n",
    "# test your sigmoid function on the value 0, should return 0.5\n",
    "sigmoid(0)\n",
    "\n"
   ]
  },
  {
   "cell_type": "code",
   "execution_count": 197,
   "metadata": {},
   "outputs": [
    {
     "name": "stdout",
     "output_type": "stream",
     "text": [
      "[[0.]\n",
      " [0.]\n",
      " [0.]]\n",
      "[1.         0.06542784 0.69465488]\n",
      "[0.5]\n"
     ]
    },
    {
     "data": {
      "text/plain": [
       "array([[0.5],\n",
       "       [0.5],\n",
       "       [0.5],\n",
       "       [0.5],\n",
       "       [0.5]])"
      ]
     },
     "execution_count": 197,
     "metadata": {},
     "output_type": "execute_result"
    }
   ],
   "source": [
    "# create a hypothesis function called h that takes in: \n",
    "# theta, an instance x, and returns the hypothesis\n",
    "# the hypothesis is the sigmoid of x@theta\n",
    "# use the @ operator for matrix multiplication\n",
    "\n",
    "print(theta)\n",
    "\n",
    "def h(theta,x):\n",
    "    return sigmoid(x@theta)\n",
    "\n",
    "print(X[0])\n",
    "\n",
    "# test your hypothesis function on the first instance of X, should return [[0.5]]\n",
    "print(h(theta,X[0]))\n",
    "\n",
    "\n",
    "# the above function is vectorized\n",
    "# for example, if instead of a single instance x, we have a matrix X of shape (m,n)\n",
    "# then the hypothesis is a vector of shape (m,1) \n",
    "# where each element is the hypothesis for the corresponding row of X\n",
    "# test it on the first 5 instances of X, should return an array of 0.5's\n",
    "\n",
    "h(theta,X[:5])\n",
    "\n",
    "\n"
   ]
  },
  {
   "cell_type": "code",
   "execution_count": 198,
   "metadata": {},
   "outputs": [
    {
     "data": {
      "text/plain": [
       "0.6931471805599453"
      ]
     },
     "execution_count": 198,
     "metadata": {},
     "output_type": "execute_result"
    }
   ],
   "source": [
    "import numpy as np\n",
    "# create a function called J that takes in theta, X, y, and returns the cost\n",
    "# the cost is the average of the log loss over the training examples\n",
    "# the log loss for a single example is -y*log(h(theta,x))-(1-y)*log(1-h(theta,x))\n",
    "# the cost is the average of the log loss over the training examples\n",
    "# use the np.mean function to compute the average\n",
    "# use the np.log function to compute the log\n",
    "# use the @ operator to compute matrix multiplication\n",
    "# use a vectorized implementation, do not use a for loop over the training examples\n",
    "# use the hypothesis function h defined above\n",
    "\n",
    "\n",
    "\n",
    "\n",
    "def J(theta,X,y):\n",
    "    one_c = -y*np.log(h(theta,X))-(1-y)*np.log(1-h(theta,X))\n",
    "    aver = np.mean(one_c)\n",
    "    #print(one_c)\n",
    "    #print(aver)\n",
    "    return aver\n",
    "\n",
    "\n",
    "\n",
    "#test your cost function on the initial all-zero theta, should return 0.6931471805599453\n",
    "J(theta,X,y)\n"
   ]
  },
  {
   "cell_type": "code",
   "execution_count": 199,
   "metadata": {},
   "outputs": [
    {
     "data": {
      "text/plain": [
       "array([[-0.1       ],\n",
       "       [-0.12904484],\n",
       "       [-0.12015491]])"
      ]
     },
     "execution_count": 199,
     "metadata": {},
     "output_type": "execute_result"
    }
   ],
   "source": [
    "# create a function called gradient that takes in theta, X, y, and returns the gradient\n",
    "# the gradient is the average of the gradient over the training examples\n",
    "# use the hypothesis function h defined above\n",
    "# use a vectorized implementation, do not use a for loop over the training examples\n",
    "# use the @ operator to compute matrix multiplication\n",
    "# use the np.mean function to compute the average\n",
    "# use the formula for the gradient given in the lecture\n",
    "# the vectorized formula is X.T@(h(theta,X)-y)/m\n",
    "\n",
    "# test your gradient function on the initial theta \n",
    "\n",
    "def gradient(theta, X, y):\n",
    "    grad = X.T@(h(theta,X)-y)/m\n",
    "   # print(grad)\n",
    "    return grad\n",
    "\n",
    "gradient(theta,X,y)"
   ]
  },
  {
   "cell_type": "code",
   "execution_count": 200,
   "metadata": {},
   "outputs": [],
   "source": [
    "# create a function called 'fit' that takes in: \n",
    "# X, y, alpha, num_iters, initial theta, \n",
    "# and returns: final theta, and J_history\n",
    "# inside the function:\n",
    "# initialize theta to the initial theta\n",
    "# initialize J_history to an empty list\n",
    "# for each iteration, using a for loop over num_iters:\n",
    "# update theta by subtracting alpha times the gradient (using the gradient function defined above)\n",
    "# compute the cost J using the cost function defined above and append it to J_history\n",
    "# return final theta, and J_history\n",
    "\n",
    "def fit(X,y,alpha,num_iters,initial_theta):\n",
    "    theta = initial_theta\n",
    "    J_history = []\n",
    "    for q in range(0, num_iters):\n",
    "        theta = theta - (alpha * gradient(theta, X, y))\n",
    "        #print(theta)\n",
    "        j = J(theta, X, y)\n",
    "        J_history.append(j)\n",
    "    final_theta = theta\n",
    "    #print(final_theta, J_history)\n",
    "    return final_theta, J_history\n",
    "\n",
    "#fit(X,y,0.1,10000,np.zeros((n,1)))\n",
    "\n",
    "\n",
    "# create a function called predict that takes in: \n",
    "# theta, and an array X_new of instances, \n",
    "# and returns the predictions\n",
    "# threshold the hypothesis at 0.5\n",
    "# use the hypothesis function h defined above\n",
    "\n",
    "def predict(theta, X_new):\n",
    "    predictions = h(theta, X_new[0])\n",
    "    print(predictions)\n",
    "    \n"
   ]
  },
  {
   "cell_type": "code",
   "execution_count": 201,
   "metadata": {},
   "outputs": [
    {
     "data": {
      "text/plain": [
       "Text(0, 0.5, 'J')"
      ]
     },
     "execution_count": 201,
     "metadata": {},
     "output_type": "execute_result"
    },
    {
     "data": {
      "image/png": "[encoded data removed]",
      "text/plain": [
       "<Figure size 640x480 with 1 Axes>"
      ]
     },
     "metadata": {},
     "output_type": "display_data"
    }
   ],
   "source": [
    "# call fit() with the following arguments:\n",
    "# X, y, alpha=0.1, num_iters=10000, initial_theta=np.zeros((n,1))\n",
    "# store the returned values in theta, J_history\n",
    "# uncomment the following line to call fit()\n",
    "\n",
    "\n",
    "theta, J_history = fit(X, y, alpha=0.1, num_iters=10000, initial_theta=np.zeros((n,1)))\n",
    "\n",
    "# plot the cost over the iterations stored in J_history\n",
    "# you should see the cost decreasing\n",
    "# uncomment the following lines to plot the cost\n",
    "\n",
    "plt.plot(J_history)\n",
    "plt.xlabel('Iteration')\n",
    "plt.ylabel('J')"
   ]
  },
  {
   "cell_type": "code",
   "execution_count": 202,
   "metadata": {},
   "outputs": [
    {
     "data": {
      "text/plain": [
       "[<matplotlib.lines.Line2D at 0x2cddfdeb5c0>]"
      ]
     },
     "execution_count": 202,
     "metadata": {},
     "output_type": "execute_result"
    },
    {
     "data": {
      "image/png": "[encoded data removed]",
      "text/plain": [
       "<Figure size 640x480 with 1 Axes>"
      ]
     },
     "metadata": {},
     "output_type": "display_data"
    }
   ],
   "source": [
    "# plot the data points\n",
    "# use a scatter plot\n",
    "# use the first feature for the x-axis, the second feature for the y-axis\n",
    "# use the actual labels for the color, c=y[:,0]\n",
    "# uncomment the following line to plot the data points\n",
    "plt.scatter(X[:,1],X[:,2],c=y[:,0])\n",
    "\n",
    "\n",
    "\n",
    "# plot the decision boundary\n",
    "# the decision boundary is the line where the hypothesis is 0.5\n",
    "# the hypothesis is 0.5 when x@theta=0\n",
    "# so the decision boundary is the line where x@theta=0\n",
    "# this is a line in the x1,x2 plane\n",
    "\n",
    "# for plotting the decision boundary, we need two points\n",
    "# create two x1 values, say 0 and 1 (since we scaled to [0,1])\n",
    "# then calculate the corresponding x2 values \n",
    "# using the decision boundary equation\n",
    "# uncomment the following lines to plot the decision boundary\n",
    "two_x1 = np.array([0, 1])\n",
    "two_x2 = -(theta[0] + theta[1] * two_x1) / theta[2]\n",
    "\n",
    "# plot the decision boundary as a k-- line. k-- is black dashed line\n",
    "plt.plot(two_x1, two_x2, \"k--\", linewidth=3)"
   ]
  }
 ],
 "metadata": {
  "kernelspec": {
   "display_name": "Python 3",
   "language": "python",
   "name": "python3"
  },
  "language_info": {
   "codemirror_mode": {
    "name": "ipython",
    "version": 3
   },
   "file_extension": ".py",
   "mimetype": "text/x-python",
   "name": "python",
   "nbconvert_exporter": "python",
   "pygments_lexer": "ipython3",
   "version": "3.12.1"
  }
 },
 "nbformat": 4,
 "nbformat_minor": 2
}
