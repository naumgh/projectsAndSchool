{
 "cells": [
  {
   "cell_type": "markdown",
   "id": "374e3e3c",
   "metadata": {},
   "source": [
    "###### CSC 370 (Spring 2024)\n",
    "\n",
    "### Assignment #4\n",
    "\n",
    "* Due via `git push` on or before 11:55 pm, 8 April (Monday). Ensure you use `git add`, `git commit` and `git push` correctly.\n",
    "* E-mailed submissions **will not be accepted**. All work must be provided via repository.\n",
    "* ***The deliverables for this assignment are described towards the bottom of this document in the \"What to submit\" cell.***\n",
    "\n",
    "<div class=\"alert alert-block alert-info\">\n",
    "Information on the PostgreSQL account assigned to you, as well as some details on how to connect to the database server, are provided at the top-level of your repository in a file named <code>POSTGRESQL.md</code>.\n",
    "</div>\n",
    "\n",
    "<div class=\"alert alert-block alert-danger\">\n",
    "All work involving running code for this assignment must be executed on <code>linux.csc.uvic.ca</code>. This is somewhat different than what was required for all three previous assignments. You must also understand that:\n",
    "    <ul>\n",
    "        <li>The <code>linux.csc.uvic.ca</code> server has a completely different file system than what you are using in <code>jhub-cosi</code>, but you can use <code>git</code> to transfer files to and from <code>linux.csc</code>. Therefore your first step will be to clone your repository into your account in <code>linux.csc.uvic.ca</code>. (Use the normal UVic username and password to access this login server.)</li>\n",
    "        <li>You can connect to <code>linux.csc.uvic.ca</code> using <code>ssh</code> at the terminal.</li>\n",
    "        <li>If you have some other <code>ssh</code> client on your laptop or desktop, you may use that to connect to <code>linux.csc.uvic.ca</code> as you complete your work; however, instructions on this will not be provided. You gotta figure this on your own or by chatting with other students on <code>RocketChat</code>.</li>\n",
    "    </ul>\n",
    "</div>"
   ]
  },
  {
   "cell_type": "markdown",
   "id": "222619e1",
   "metadata": {},
   "source": [
    "---\n",
    "#### A continuation...\n",
    "\n",
    "In the previous assignment you modelled the database needed for a hypothetical environmental activist organization named “Green-not-Greed” (GnG). In this assignment you will use those tables, queries, views, etc. from within a Python program that you will write. This program is intended to be used by employees of GnG who are going about the tasks of the organization. In order to keep our focus on interacting with the database (i.e., the classical \"application-server\"-tier level of coding) we will keep the user interface very simple (i.e., text-based prompts). However, the information provided by the program to the user should be clear -- that is, cryptic prompts and confusing output must be avoided.\n",
    "\n",
    "As you write the program you may decide that some of your tables and queries need to be changed in a significant way. You are allowed to do this, but please ensure that these changes are carefully documented in a `CHANGES.md` document stored within the `assign4/` directory of your git repository.\n",
    "\n",
    "In each of the phases below you must use exception handling where appropriate. Working with databases is fraught with peril – much can go wrong, and we want the user isolated (as best possible) from DBMS errors. If an exception is likely to occur, your code must handle it. "
   ]
  },
  {
   "cell_type": "markdown",
   "id": "8cedace4",
   "metadata": {},
   "source": [
    "---\n",
    "#### Development Phase 1: Queries from Assignment 3\n",
    "\n",
    "Your program must allow the GnG user to select from the queries you prepared in Assignment 3, and to produce the output in a way suitable for the user to read and interpret. Note that your queries should be briefly described in the program’s menu; simply allowing users to select from `query 1`, `query 2`, ..., `query n` is not enough, and there must appear more information in your simple text-based interface."
   ]
  },
  {
   "cell_type": "markdown",
   "id": "dafbc0af",
   "metadata": {},
   "source": [
    "---\n",
    "#### Development Phase 2: Setting up a campaign with volunteers, activities, etc.\n",
    "\n",
    "Your program will enable a GnG user to enter the information needed to set up a campaign,\n",
    "including: adding new volunteers to the organization who have joined specifically to help with the campaign; scheduling events; etc. Existing volunteers can help with the campaign. The GnG user must be able to see the state of a campaign at suitable points during the steps needed for campaign setup\n"
   ]
  },
  {
   "cell_type": "markdown",
   "id": "b9bbcb18",
   "metadata": {},
   "source": [
    "---\n",
    "#### Development Phase 3: Some accounting information\n",
    "\n",
    "GnG does have donors and campaigns have costs. Reporting on these fund inflows and outflows is often needed as the group plans for future events. The GnG user must be able to obtain this kind of data in both a textual and a quasi-graphical format (e.g, ASCII bar charts) and at a suitable level of detail."
   ]
  },
  {
   "cell_type": "markdown",
   "id": "7edaf3e4",
   "metadata": {
    "jp-MarkdownHeadingCollapsed": true
   },
   "source": [
    "---\n",
    "#### Development Phase 4: Membership history\n",
    "\n",
    "Another useful tool when planning is to invite specific members/volunteers to take on tasks for campaigns, yet organizers are very mindful that time is finite. Member burnout is commonplace in many volunteer organizations, and we can help organizers here by showing them the way members have been involved. Some of this browsing through membership history may also suggest ideas or annotations to be added to campaigns or member records. The GnG user must be able to browse both membership history and add annotations to campaigns, member records, or any other piece of data you believe appropriate.\n",
    "\n",
    "<div class=\"alert alert-block alert-info\">\n",
    "The name of the file containing the SQL commands corresponding to your queries <b>must be named</b> <code>gng-queries.sql</code>\n",
    "</div>"
   ]
  },
  {
   "cell_type": "markdown",
   "id": "b6393ddf",
   "metadata": {},
   "source": [
    "---\n",
    "#### Development Phase 4: Your own ideas\n",
    "\n",
    "Create at least one more way in which the GnG user can interact with the database – via the Python program– in a non-trivial way."
   ]
  },
  {
   "cell_type": "markdown",
   "id": "a29fc07a",
   "metadata": {
    "jp-MarkdownHeadingCollapsed": true
   },
   "source": [
    "---\n",
    "#### A word about Python 3\n",
    "\n",
    "The default version of Python available on `linux.csc.uvic.ca` is Python 2.7 (i.e., what you get when you type `python` on the command line). I do request, however, that you write your solution using Python 3 (i.e, `python3` on the command line, or `#!/usr/bin/env python3` as a script's bang-path line.) As much as I would like to accommodate requests for extra additional modules to be installed via `pip`, I’m afraid I’m unable to do so. Therefore please write your solution with what is available (i.e., the bog-standard Python 3 distribution, which unfortunately does not have such things as `numpy` or `matplotlib`, etc.).\n",
    "\n",
    "<div class=\"alert alert-block alert-danger\">\n",
    "The information above about <code>Python 3</code> is important -- do not ignore it!\n",
    "</div>"
   ]
  },
  {
   "cell_type": "markdown",
   "id": "ac7125a1",
   "metadata": {},
   "source": [
    "---\n",
    "#### What to submit\n",
    "\n",
    "All of your work is to be stored in your `git` repo (that same one you used for the whole semester) and  submitted via `git push` -- that is, diagrams, notes, Python code, markdown files, SQL files, etc. must be in the repository. **E-mailed submissions will not be accepted.**\n",
    "\n",
    "* Your `assign4/` directory will contain a Python program/script with the name of `gng.py`. You are welcome to break down the whole application into your own modules, but please ensure all of this code is also committed into the `assign4/` directory.\n",
    "\n",
    "* A file named `assign4/PHASE-5.md` that lists the functionality you have invented for your GnG program in Phase 5 (above).\n",
    "\n",
    "* A SQL script file named `assign4/gng_dump.sql` containing the output produced by the `pg_dump` command on `linux.csc.uvic.ca` when used with your database. This file contains the SQL commands needed to reconstruct your database with all tables, table data, and views (i.e., your SQL queries). **Note that this procedure is somewhat different from assignment #3 as there you were requested to provide several separate `.sql` files, whereas for this assignment I'm trying to simplify your life by asking for only one.**\n",
    "\n",
    "You may create other directories as needed in your git project to support your work. Please ensure these directories are properly added and committed before your final push for the assignment. However, the files described above **must** be at the `assign4/` level and not any lower.\n",
    "\n"
   ]
  },
  {
   "cell_type": "markdown",
   "id": "20f2d00c",
   "metadata": {},
   "source": [
    "---\n",
    "#### Evaluation\n",
    "\n",
    "As there are many possible correct solutions to the problem, evaluation will be done via a demonstration of work in front of a member of the CSC 370 teaching team. Information on demos (i.e., where, when, how to sign up) will be distributed several days before the assignment due date.\n",
    "\n",
    "The marking scheme below will be used:\n",
    "* **A grade:** An exceptional submission demonstrating creativity and initiative. The program provided is thorough and shows insight, enables the user to interact with the data in a clear way, and is free of unexplained behavior. Phase 5 shows exceptional creativity.\n",
    "* **B grade:** A submission completing the requirements of the assignment. The program provided is thorough, enables the user to interact with the data, and is free of unexplained behavior. Phase 5 has been completed and is non-trivial.\n",
    "* **C grade:** A submission completing most of the requirements of the assignment. The program has some rough spots, but the user is able to interact with the data. There is some unexplained behavior. Phase 5 might not have been completed.\n",
    "* **D grade:** A serious attempt at completing the requirements of the assignment. There are many problems with the submitted work.\n",
    "* **F grade:** Either no submission is given, or submission represents very little work."
   ]
  }
 ],
 "metadata": {
  "kernelspec": {
   "display_name": "Python 3 (ipykernel)",
   "language": "python",
   "name": "python3"
  },
  "language_info": {
   "codemirror_mode": {
    "name": "ipython",
    "version": 3
   },
   "file_extension": ".py",
   "mimetype": "text/x-python",
   "name": "python",
   "nbconvert_exporter": "python",
   "pygments_lexer": "ipython3",
   "version": "3.11.7"
  }
 },
 "nbformat": 4,
 "nbformat_minor": 5
}
