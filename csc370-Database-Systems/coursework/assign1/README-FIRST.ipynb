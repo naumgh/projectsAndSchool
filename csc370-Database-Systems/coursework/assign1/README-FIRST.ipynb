{
 "cells": [
  {
   "cell_type": "markdown",
   "id": "05959abc-c581-43c8-849c-4a40d54469c2",
   "metadata": {},
   "source": [
    "## CSC 370 (Spring 2024)\n",
    "\n",
    "### A few words about Markdown and LaTeX\n",
    "\n",
    "Throughout this course you will be using Jupyter Notebooks in JupyterLab in at least two ways. The first way is as a documentation environment, and this is something which will be a focus as you complete the first assignment. The second is as a programming environment; more information will be given to you about such use starting with Assignment 2.\n",
    "\n",
    "It may be that Markdown syntax or LaTeX syntax or both are completely new to you. The good news is that you need not master both Markdown and LaTeX to complete coursework. That is, you only need to learn enough."
   ]
  },
  {
   "cell_type": "markdown",
   "id": "c23540fb-0f97-49fc-8803-e7861b907ba0",
   "metadata": {},
   "source": []
  },
  {
   "cell_type": "markdown",
   "id": "ae400c81-f0e0-4a8e-923c-e09c46efbdb7",
   "metadata": {},
   "source": [
    "---\n",
    "\n",
    "#### Markdown\n",
    "\n",
    "The normal use of markdown involves creating text files with the suffinx `.md`. You have already noticed some files with such a suffix in your CSC 370 repository. However, Markdown is also supported within Jupyter Notebooks in what are called *markdown cells* (of which this is one). **For this course, you only need concern yourself with markdown in notebooks.**\n",
    "\n",
    "You will find some documentation regarding notebook markdown syntax via the menu item above `Help > Markdown reference`. Another excellent cheat-sheet resource for markdown syntax in notebooks can be found [at IBM (link)](https://www.ibm.com/docs/en/watson-studio-local/1.2.3?topic=notebooks-markdown-jupyter-cheatsheet). Please be aware that different tools support different markdown capabilities, and so answers from StackOverflow that are correct for some platforms may not work for notebooks.\n",
    "\n",
    "Familiarize yourself particularly with:\n",
    "* bullets\n",
    "* numbered lists\n",
    "* emphasis\n",
    "* mathematical symbols (although more of that is discussed below under the **LaTeX** section).\n",
    "\n",
    "##### Images\n",
    "\n",
    "For some questions you will be asked to provide an expression tree as an answer -- and to be fair these are best drawn by hand. After you draw the tree, capture it with some device (smartphoneor scanner), then upload a JPEG or PNG version of that image to the same directory as this notebook. Finally add markup to your markdown cell to render the image at a suitable size. The graphic below shows the location of the upload button:\n",
    "\n",
    "<center><img src=\"upload-graphic.png\" width=\"300\" /></center>\n",
    "\n",
    "For example show below is an expression tree taken from a lecture slide, redrawn by me some Sunday morning onto a sheet of quadruled paper:\n",
    "\n",
    "<center><img src=\"IMG_8348.jpg\" width=\"550\" /></center>\n",
    "\n",
    "The markup included in the markdown cell two show this is:\n",
    "```\n",
    "<center><img src=\"IMG_8348.jpg\" width=\"550\" /></center>\n",
    "```\n",
    "\n",
    "(The sharp-eyed amongst you will notice that I've given some HTML rather than markdown -- and markdown in general supports most HTML tags. The markdown syntax for including an image does not, unfortunately, permit one to resize that image.)"
   ]
  },
  {
   "cell_type": "markdown",
   "id": "ff1dd796-584f-40fd-85c6-d33e31147f7b",
   "metadata": {},
   "source": [
    "#### LaTeX for mathematical symbols\n",
    "\n",
    "Although LaTeX is a fully capable document layout language, we will only be using some of its syntax for mathematical expressions. A lot of what you will find online regarding LaTeX and notebooks is confusing, and in fact is perhaps more than you need to make progress with Assignment 1. If you are completely new to LaTeX and notebooks, one place to start is [this short YouTube video (link)](https://www.youtube.com/watch?v=ZOgoMbt26BU) showing the insertion of a mathematical expression into a notebook.\n",
    "\n",
    "In reality you will only need a few LaTeX symbols to write relational-algebra expressions, functional-dependency expressions, some syntax for properly writing subscripts, and finally syntax for having curly braces (`{` `}`) appear in an expression. LaTeX expressions start and end with the `$` symbol. (Unless you know what you want to do, I'd recommend avoiding the `$$` symbol to start and end expressions.)\n",
    "\n",
    "Here is a list of RA and FD symbols you will need:\n",
    "* lower-case sigma: `\\sigma` ($\\sigma$)\n",
    "* lower-case pi: `\\pi` ($\\pi$)\n",
    "* lower-case rho: `\\rho` ($\\rho$)\n",
    "* join symbol: `\\bowtie` ($\\bowtie$)\n",
    "* cross product: `\\times` ($\\times$)\n",
    "* division: `/` ($/$)\n",
    "* set union: `\\cup` ($\\cup$)\n",
    "* set intersection: `\\cap` ($\\cap$)\n",
    "* set difference: `-` ($-$) *(and notice there is no backslash)*\n",
    "* proper subset, proper superset: `\\subset`, `\\supset` ($\\subset$, $\\supset$)\n",
    "* subset, superset: `\\subseteq`, `\\supseteq` ($\\subseteq$, $\\supseteq$)\n",
    "* right arrow: `\\rightarrow` ($\\rightarrow$)\n",
    "\n",
    "Any symbol may have a subscript expression added to it by using the underscore (`_`) symbol with the expression to appear immediately following surrounded by curly braces. Some examples:\n",
    "* `\\sigma_{(coffee='black')}` is rendered as $\\sigma_{(coffee='black')}$\n",
    "* `\\pi_{foo, baz, bar}` is rendered as $\\pi_{foo, baz, bar}$\n",
    "* `\\cup_{quarters}` is rendered as $\\cup_{quarters}$ (which is just silly)\n",
    "\n",
    "To get the curly brace itself, however, requires that the brace symbol be escaped with a backslash. Some examples:\n",
    "* `\\phi = \\{\\alpha, \\beta, \\gamma\\}` is rendered as $\\phi = \\{\\alpha, \\beta, \\gamma\\}$\n",
    "* `\\{A, B\\} \\cup \\{B, C\\} \\equiv \\{A, B, C\\}`} is rendered as $\\{A, B\\} \\cup \\{B, C\\} \\equiv \\{A, B, C\\}$\n",
    "\n",
    "<div class=\"alert alert-block alert-info\">\n",
    "If you find that your LaTeX expression is not being rendered in the notebook cell, it may be due to missing curly braces (either forgotten, or with a parenthesis appear instead, etc.). Before you curse Jupyter Notebook, look carefully for missing or misplaced curly braces!\n",
    "</div>\n",
    "\n",
    "And if you hafta gotta know more about the universe of LaTeX symbols, [fill your boots (link).](https://oeis.org/wiki/List_of_LaTeX_mathematical_symbols)"
   ]
  },
  {
   "cell_type": "markdown",
   "id": "0fcb6c60-02c7-40c0-9473-a2e387bb5694",
   "metadata": {},
   "source": []
  }
 ],
 "metadata": {
  "kernelspec": {
   "display_name": "Python 3 (ipykernel)",
   "language": "python",
   "name": "python3"
  },
  "language_info": {
   "codemirror_mode": {
    "name": "ipython",
    "version": 3
   },
   "file_extension": ".py",
   "mimetype": "text/x-python",
   "name": "python",
   "nbconvert_exporter": "python",
   "pygments_lexer": "ipython3",
   "version": "3.11.7"
  }
 },
 "nbformat": 4,
 "nbformat_minor": 5
}
