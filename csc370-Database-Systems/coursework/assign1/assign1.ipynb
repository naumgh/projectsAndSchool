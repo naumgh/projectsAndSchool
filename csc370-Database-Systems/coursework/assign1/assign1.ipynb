{
 "cells": [
  {
   "cell_type": "markdown",
   "id": "e446795c-8a52-4341-be11-ccefd4261472",
   "metadata": {},
   "source": [
    "###### CSC 370 (Spring 2024)\n",
    "\n",
    "### Assignment #1\n",
    "\n",
    "* Due via `git push` on or before 6:00 pm, 5 February 2024 (Monday). Ensure you use `git add`, `git commit` and `git push` correctly.\n",
    "* E-mailed submissions **will not be accepted**. All work must be provided via this notebook and repository.\n",
    "* There are four questions in this assignment. Following each of the question cells you will find a blank markdown cell provided for your answer. Do not add or remove cells from this notebook *without express written permission from the instructor.*\n",
    "* When working through your answer to each question, first use pen/pencil paper. Once you are satisfied with your answer handwritten answer, only then transcribe and format your answer into this notebook.\n",
    "* You will not be evaluated on how you use of markdown; however, please ensure your answers in markdown are readable (i.e. are readable after `shift`-`enter`.\n",
    "\n",
    "<div class=\"alert alert-block alert-danger\">\n",
    "<b>Beware of the \"x\" key! This is the keyboard shortcut for deleting the current notebook cell. If a cell suddenly disappears and you *did not* intend this (i.e. you didn't hide the cell on purpose), then immediately go to the \"Edit\" menu above and select \"Undo Cell Operation\" (or press \"z\" which is equivalent). If the deletion had just occurred, then the undo action will restore that work.</b>\n",
    "</div>"
   ]
  },
  {
   "cell_type": "markdown",
   "id": "38d42ab7-d2b8-471d-be07-d9ca91976381",
   "metadata": {},
   "source": [
    "---\n",
    "\n",
    "#### Some instructions on the use of the rename operation\n",
    "\n",
    "In order to reduce confusion and errors as you prepare answers, for this assignment you are to use the rename operation (i.e. $\\rho$) in a notation similar to that used for $\\sigma$ and $\\pi$. For instance, the `Sells` relation described in the lectures has attributes `pub`, `beer`, and `price`. If we want to create a new relations `S'` where the attribute `pub` is now called `name`, you can write either:\n",
    "$$ S' = \\rho_{name, beer, price}(Sells) $$\n",
    "or:\n",
    "$$ S' = \\rho_{name / pub}(Sells)$$\n",
    "where the first form is handy if more than one attribute is to be renamed."
   ]
  },
  {
   "cell_type": "markdown",
   "id": "50a9359f-88b9-4a22-86a7-259a7397e46c",
   "metadata": {},
   "source": [
    "---\n",
    "#### Question A (marks: 15)\n",
    "\n",
    "Given two relations $R$ and $S$, where $R$ contains $M$ tuples, $S$ contains $N$ tuples, and $M > N > 0$, give the *minimum* and *maximum* sizes (in tuples) for the relation resulting from each of the expression shown below. \n",
    "\n",
    "**For each expression below, your answer must state any assumptions about the schemas** for $R$ and $S$ that are needed to ensure the expression is meaningful. Providing your answer for an expression without any of your stated assumptions may result in a mark of zero for that answer.\n",
    "\n",
    "1. $R \\cup S$\n",
    "2. $R \\cap S$\n",
    "3. $R - S$\n",
    "4. $R \\times S$\n",
    "5. $\\sigma_{a=5}(R)$\n",
    "6. $\\pi_a(R)$\n",
    "7. $R \\bowtie S$"
   ]
  },
  {
   "cell_type": "markdown",
   "id": "fc3b403d-f63d-4344-a780-db8de3dd632d",
   "metadata": {},
   "source": [
    "#### Answers for A\n",
    "[Instructor only: A mark --]\n",
    "\n",
    "*Your answers for Question A begin here*\n",
    "\n",
    "\n",
    "1. $R \\cup S$\n",
    "\n",
    "   If we assume that none of the tuples are distinct, and none of the tuples contain the empty set, and the union operation is idempotent, then the `Minimum` would be `M` tuples.\n",
    "\n",
    "   If we assume that all are distinct tuples and none of tuples contain empty set, and union operation is indepotent, then the `Maximum` tuples contained in operation is `M+N` tuples.\n",
    "\n",
    "2. $R \\cap S$\n",
    "\n",
    "   If R and S contain only distinct tuples and dont contain any empty sets, then the `Minimum` number of tuples would be `0` after operation completion because there could be no elements to intersect.\n",
    "\n",
    "   If R and S contain non-distinct tuples, and none of the tuples contain empty set, then the `Maximum` number of tuples would be `N`. This is because `M>N`, so intersection would result in S relation.\n",
    "\n",
    "3. $R - S$\n",
    "\n",
    "   If R and S contain non-distinct tuples, then the `Minimum` number of tuples after operation completion would be `0`.\n",
    "\n",
    "   If R and S contain distinct tuples, then the `Maximum` number of tuples would be `M` because nothing would be subtracted from R.\n",
    "\n",
    "4. $R \\times S$\n",
    "\n",
    "   If R and S contain `M` and `N` tuples and none of them are empty, then the `Maximum` number of tuples would be `M*N` after operation completion. The `Minimum` would also be `M*N`, regardless of whether or not the tuples are distinct.\n",
    "\n",
    "5. $\\sigma_{a=5}(R)$\n",
    "\n",
    "   We are selecting the rows where attributge `a=5`, so if there are no rows where this condition is true, then the selection would result in a `Minimuim` of `0` tuples.\n",
    "\n",
    "   As for `Maximum`, if all rows contain attribute `a=5`, then max tuples returned would be `M`, or the amount of tuples in the relation R.\n",
    "\n",
    "6. $\\pi_a(R)$\n",
    "\n",
    "   We are selecting the A column from R, so if we assume that A doesn't contain any empty elements, and that it exists in R, and that all elements are non-distinct, then the `Minimum` number of elements from a projection would be `1`\n",
    "\n",
    "   As for `Maximum`, if we are still applying the same base assumption, except that all tuples are distinct, then the projection from a column would result in `M` tuples.\n",
    "\n",
    "7. $R \\bowtie S$\n",
    "\n",
    "    For `Maximum`, if all tuples are distinct and non-empty, and no attribtues are shared, meaning that there is no common column, then it would be the cartesian product of R and S, which would be `M * N`\n",
    "\n",
    "   The `Minimum` would be `M`, assuming all non-distinct and non empty, and all tables have a shared column. The resulting natural join result in only `M` tuples being returned. \n",
    "\n",
    "   \n",
    "   \n",
    "\n",
    "   \n",
    "\n",
    "   \n",
    "   \n"
   ]
  },
  {
   "cell_type": "markdown",
   "id": "cfd914b1-8112-4223-a5d3-e5eba938592f",
   "metadata": {},
   "source": [
    "---\n",
    "#### Question B (marks: 25)\n",
    "\n",
    "Consider the following schema:\n",
    "```\n",
    "Suppliers(sid: integer, sname: string, address: string)\n",
    "Parts(pid: integer, pname: string, colour: string)\n",
    "Catalog(sid: integer, pid: integer, cost: float)\n",
    "```\n",
    "\n",
    "The key for `Suppliers` is `sid`, for `Parts` is `pid`, and for `Catalog` is `sid` and `pid` together. The `Catalog` relation associates prices charged for parts by supplies.\n",
    "\n",
    "Write the following queries using relational algebra. The form in which the query answer must appear -- *sequences of assignment statements (S)*, *expressions with several operators (E)*, and *expression trees (T)* -- are shown beside each query.\n",
    "\n",
    "1. Find the name of suppliers who supply some blue part. (*S*)\n",
    "2. Find the idas of supplies who supply some blue or magenta part. (*S*)\n",
    "3. Find the ids of suppliers who supply every magenta part. (*E*)\n",
    "4. Find the ids of suppliers who supply every part. (*S*)\n",
    "5. Find the ids of parts supplied by at least two different suppliers. (*T*)\n",
    "6. Find the idas of the most expensive parts supplied by the company named \"Bolts-R-Us\". (*T*)\n",
    "7. Find the ids of parts supplied by every supplier at less than or equal to \\\\$100. (If any supplier either does not supply the part of charges more than $100 for it, then that part should not be in the final relation.) (*S*)\n",
    "\n",
    "Expression trees that are handrawn and scanned/captured must be uploaded to the `assign1/` directory of your `git` module and also `add`ed via `git add`. (See the `README-FIRST.ipynb` document for how to cause such an image to appear in your rendered notebook.)"
   ]
  },
  {
   "cell_type": "markdown",
   "id": "61c69d55-eef5-4dad-b2e7-3be1968386c1",
   "metadata": {},
   "source": [
    "#### Answers for B\n",
    "[Instructor only: B mark --]\n",
    "\n",
    "*Your answers for Question B begin here*\n",
    "\n",
    "1. \\begin{align}BluePart = \\sigma_{color='blue'}(Parts)\\\\BlueID = \\pi_{pid}(BluePart)\\\\CatBlue = BlueID \\bowtie Catalog\\\\BlueSupplier = (CatBlue) \\bowtie_{CatBlue.sid = Suppliers.sid} (Suppliers)\\\\ \\pi_{sname}(BlueSupplier)\\\\\\\\\\end{align}\n",
    "2. \\begin{align}BorM = \\sigma_{{color='blue'}\\lor{color='magenta'}}(Parts)\\\\BorMID = \\pi_{pid}(BorM)\\\\CatBlue = BorMID \\bowtie Catalog\\\\BMSupplier = (CatBlue) \\bowtie_{CatBlue.sid = Suppliers.sid} (Suppliers)\\\\ \\pi_{sid}(BMSupplier)\\\\\\\\\\end{align}\n",
    "3. \\begin{align}\\pi_{sid}((\\pi_{sid,pid}Catalog)/(\\pi_{pid}\\sigma_{color='magenta'}Parts \\bowtie Catalog \\bowtie Supplier))\\\\\\end{align}\n",
    "4. \\begin{align}EveryPart = \\pi_{pid}(Parts)\\\\cs = Catalog \\bowtie Suppliers\\\\cps = cs \\bowtie parts\\\\PartSupplier = \\pi_{pid,sid}(CPS)\\\\FinalTable = PartSupplier/EveryPart\\\\\\pi_{sid}(FinalTable)\\\\\\\\\\end{align}\n",
    "5. <center><img src=\"IMG_1521.jpg\" width=\"520\" /></center>\n",
    "6. <center><img src=\"IMG_1523.jpg\" width=\"520\" /></center>\n",
    "7. \\begin{align}sc = Catalog \\bowtie_{catalog.sid = suppliers.sid}Supplier\\\\psc = (Parts)\\bowtie_{Parts.pid=sc.pid}(sc)\\\\parts100 = \\sigma_{cost <= 100}(psc)\\\\\\pi_{pid}(parts100)\\end{align}"
   ]
  },
  {
   "cell_type": "markdown",
   "id": "96721e84-b001-49c8-bf4a-f128c4de7175",
   "metadata": {
    "jp-MarkdownHeadingCollapsed": true
   },
   "source": [
    "---\n",
    "#### Question C (marks: 25)\n",
    "\n",
    "Recall the schema from Question B. Using natural language, describe what is computed by the following queries. Make sure the rules of precedence as given in lectures is followed by your interpretation. Some marks will be given for the quality of your answer (that is, simply describing the query literally will not result in full marks).\n",
    "\n",
    "1. \\begin{align} \\pi_{sname}(\\pi_{sid}(\\sigma_{colour='blue'}(Parts) \\bowtie \\sigma_{cost<100}(Catalog))\\bowtie Suppliers) \\end{align}\n",
    "2. \\begin{align} \\pi_{sname}(\\pi_{sid}((\\sigma_{colour='green'}(Parts)) \\bowtie (\\sigma_{cost<25.5}(Catalog))\\bowtie Suppliers)) \\end{align}\n",
    "3. \\begin{align*} & (\\pi_{sname}((\\sigma_{colour='puce'}(Parts)) \\bowtie(\\sigma_{cost < 50}(Catalog)) \\bowtie Suppliers)) \\cap \\\\ & (\\pi_{sname}((\\sigma_{colour='cyan'}(Parts)) \\bowtie (\\sigma_{cost<50}(Catalog)) \\bowtie Suppliers)) \\end{align*}\n",
    "4. \\begin{align*} & (\\pi_{sid}((\\sigma_{colour='coral'}(Parts)) \\bowtie (\\sigma_{cost<200}(Catalog)) \\bowtie Suppliers)) \\cap \\\\ & (\\pi_{sid}((\\sigma_{colour='charcoal'}(Parts)) \\bowtie (\\sigma_{cost<200)}(Catalog)) \\bowtie Suppliers)) \\end{align*}\n",
    "5. \\begin{align*} & \\pi_{sname}((\\pi_{sid,sname}((\\sigma_{colour='teal'}(Parts)) \\bowtie (\\sigma_{cost<150}(Catalog)) \\bowtie Suppliers)) \\cap \\\\ & (\\pi_{sid,sname}((\\sigma_{colour='eggshell-white'}(Parts))\\bowtie(\\sigma_{cost<100}(Catalog)) \\bowtie Suppliers))) \\end{align*}\n"
   ]
  },
  {
   "cell_type": "markdown",
   "id": "5f90d211-aa1e-412f-be99-629db6c3ae98",
   "metadata": {
    "jp-MarkdownHeadingCollapsed": true
   },
   "source": [
    "#### Answers for C\n",
    "[Instructor only: C mark --]\n",
    "\n",
    "*Your answers for question C begin here*\n",
    "1. This query is performing operations on the catalog, suppliers and parts relations. First, it is finding the parts that cost less than $100 and are blue, Then, by joining the Pid of catalog and parts, it's finding the parts that are blue and cost less than 100 in catalog. It is then projecting the sid of this join (from catalog), and joining it will suppliers. Finally, we are projecting the sname from from the suppliers that meet this condition.\n",
    "\n",
    "\n",
    "2. This query is performing operations on the catalog, suppliers and parts relations. It is slightly different than the previous relation due to precidence rules. First, it is fiding the Parts that are green and cost less than 25.5 that are listed in the catalog, then it's finding the suppliers that meet those conditions. Then, it's projecting the sid of the relation given due to the conditions descibed. Finally, it projects the sname from those relations. This query doesn't make a lot of sense, and could have been written better, and simplified. The sid projection wasn't needed. In fact, due to the double precision, we would return nothing!\n",
    "\n",
    "\n",
    "3. in this query, we are finding the parts that are the color puce (didn't know this color even existed to be honest), that also cost less than 50 and are supplied by suppliers. After this, we are projecting the name of said suppliers. For simplicity, we will denote it SUP1. We are also doing the same thing in the other query (after the intersection), but this time we are finding parts that are color cyan, that cost less than 50, and are supplied by suppliers. We will denote this SUP2. Finally, we are taking the intersection of SUP1 and SUP2 sids, which means we are finding the names of suppliers that meet both conditions previously mentioned. That being said, we still need to project the final names from the query to see them.\n",
    "\n",
    "   \n",
    "4. this query is essentially the same as query 3 logically. Except it's selecting parts with the color coral, that cost less than 200 dollars, and that are supplied by suppliers (I will denote it as SUP1). SUP2 is selecting parts with color charcoal, that cost less than 200 dollars and are supplied by suppliers. Then we are projecting sid from both SUP1 and SUP2, and intersecting said projections. IE, we are finding the sids that correspond to both conditions. \n",
    "\n",
    "   \n",
    "5. First, we are selecting  the parts that are colored teal. Then, we are joining pid where cost of a part is less than 150 from a catalog. We are also joining our two previous conditions on sid of suppliers, and we are joining from the sid of catalog. From here, we are projecting sid and sname on to a relation (we will call it SUP1). Then, we are intersecting by SUP2, which is defined by the selection of parts that are colored eggshell-white, that cost less than 100 dollars and are provided by suppliers. Finally, we are projecting sname from SUP1 INTERSECT SUP2. In other words, we are getting the names of suppliers that that meet both SUP1 and SUP2 conditions and projecting it onto a new relation and finally, projecting the sname. \n"
   ]
  },
  {
   "cell_type": "markdown",
   "id": "223e9c34-6330-426a-bace-f74f4c37241f",
   "metadata": {},
   "source": [
    "---\n",
    "#### Question D (marks: 25)\n",
    "\n",
    "Consider a relation $Equities(B, O, I, S, Q, D)$. The attributes may be thought of (roughly) as a securities *broker,* that broker's *office,* a securities *investor,* the *security* itself, number or *quantity* of shares of the security (stocks, bonds, etc.), and the yearly income (or *dividend*) produced by the security.\n",
    "\n",
    "The set of FDs for this relation is $\\{ S \\rightarrow D, I \\rightarrow B, IS \\rightarrow Q, B \\rightarrow O\\}$.\n",
    "\n",
    "1. What are all the keys for $Equities$?\n",
    "2. Verify that the given FDs are their own *minimal basis.* Some marks will be given for the quality of your answer.\n",
    "3. Use the 3NF synthesis algorithm to find a lossless-join, dependency-preserving decomposition of $Equities$ into 3NF relations, showing all work. Are any of the resulting relations not in BCNF? Explain."
   ]
  },
  {
   "cell_type": "markdown",
   "id": "6639781f-843c-434c-b272-64975dc89a8e",
   "metadata": {},
   "source": [
    "#### Answers for D\n",
    "[Instructor only: D mark]\n",
    "\n",
    "1. The keys for Equities would only be IS, after taking multiple closures, we find that every key must have IS in it, which means that there is only one key, IS. This is also evident by the fact that there are no direct functional dependencies that can functionally determine I or S in the list of FDS.\n",
    "2. The FDs are their own minimal basis, due to the fact that there are no redundant FDs, and right hand side is single attribute, and all the fds are necessary. We also cannot remove any left-hand side attribute. We check IS to see if we can remove I or S, but since it's the key, we can't. This tells us that the set of FDs are their own minimal basis\n",
    "3. We know that IS is a key for this relation, and that every FD is it's own minimal basis, which means that the final set of relations is decomposed into R1(SD), R2(IB), R3(ISQ), R4(BO). It is also in BCNF, because if we take the projection on the relations, we find that all functional dependencies determine each other uniquely, or are superkeys, which therefore means they are also in BCNF\n",
    "\n",
    "   \n",
    "*Your answers for question D begin here*"
   ]
  },
  {
   "cell_type": "markdown",
   "id": "32a05e0a-007f-4f4a-8d5e-d8a795c81a09",
   "metadata": {},
   "source": [
    "---\n",
    "**[Instructor only: Total mark --]**"
   ]
  }
 ],
 "metadata": {
  "kernelspec": {
   "display_name": "Python 3 (ipykernel)",
   "language": "python",
   "name": "python3"
  },
  "language_info": {
   "codemirror_mode": {
    "name": "ipython",
    "version": 3
   },
   "file_extension": ".py",
   "mimetype": "text/x-python",
   "name": "python",
   "nbconvert_exporter": "python",
   "pygments_lexer": "ipython3",
   "version": "3.11.7"
  }
 },
 "nbformat": 4,
 "nbformat_minor": 5
}
