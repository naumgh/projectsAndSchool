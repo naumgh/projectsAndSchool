{
 "cells": [
  {
   "cell_type": "markdown",
   "id": "47c67547-ccd0-42cf-8b0a-6448f47ac23b",
   "metadata": {},
   "source": [
    "#### A poem\n",
    "\n",
    "```\n",
    "Up to the ceiling\r\n",
    "Down to the floor,\r\n",
    "Left to the window\r\n",
    "Right to the door,\r\n",
    "Kiss me mommy\r\n",
    "Kiss me daddy,\r\n",
    "I can sing my A B C D’s\r\n",
    "A B C D E F G\r\n",
    "H I J K L M N O P\r\n",
    "Q R S T U V W X Y Z\r\n",
    "The Dooranslate.com\n",
    "```https://lyricstranslate.compot-lyrics/)"
   ]
  },
  {
   "cell_type": "markdown",
   "id": "d08e7ac3-92f2-4d34-b825-f827bf82a4bc",
   "metadata": {},
   "source": []
  }
 ],
 "metadata": {
  "kernelspec": {
   "display_name": "Python 3 (ipykernel)",
   "language": "python",
   "name": "python3"
  },
  "language_info": {
   "codemirror_mode": {
    "name": "ipython",
    "version": 3
   },
   "file_extension": ".py",
   "mimetype": "text/x-python",
   "name": "python",
   "nbconvert_exporter": "python",
   "pygments_lexer": "ipython3",
   "version": "3.11.7"
  }
 },
 "nbformat": 4,
 "nbformat_minor": 5
}
